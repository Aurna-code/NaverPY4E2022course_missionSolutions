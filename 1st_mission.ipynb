{
  "nbformat": 4,
  "nbformat_minor": 0,
  "metadata": {
    "colab": {
      "provenance": []
    },
    "kernelspec": {
      "name": "python3",
      "display_name": "Python 3"
    },
    "language_info": {
      "name": "python"
    }
  },
  "cells": [
    {
      "cell_type": "markdown",
      "source": [
        "Q3. 파이썬은 우리의 명령을 이해하지 못했을 때, 친절하게 Error Message를 통해 어떤 명령을 이해하지 못했는지 알려줍니다.  그것을 보고 코드의 버그를 수정해가는 과정을 Debugging이라고 합니다. 이것은 코딩에 있어서 매우 중요합니다.\n",
        "\n",
        "따라서, Error Message에 대해서 이해하는 시간을 가져봅시다.\n",
        "강의에서는 SyntaxError, ValueError, TypeError 3가지가 등장했습니다.\n",
        "\n",
        "    ①각각의 Error를 발생시키는 코드를 2가지씩 만들어보고\n",
        "\n",
        "    ②Debugging한 코드도 만들어 봅시다.\n",
        "\n",
        "    ③그리고 그 밖에 다른 Error도 3가지를 찾아 그 Error를 발생시키는 코드와\n",
        "\n",
        "    ④Debugging한 코드를 1가지씩 만들어 봅시다."
      ],
      "metadata": {
        "id": "e13bWZcQJ8fp"
      }
    },
    {
      "cell_type": "code",
      "execution_count": null,
      "metadata": {
        "id": "CtAHiobppChm"
      },
      "outputs": [],
      "source": [
        "\n",
        "print('9999' + 999)"
      ]
    },
    {
      "cell_type": "code",
      "source": [
        "print(int('9999') + 999)\n",
        "print('9999' + str(999))"
      ],
      "metadata": {
        "id": "bs6dxQ1lNQN6"
      },
      "execution_count": null,
      "outputs": []
    },
    {
      "cell_type": "code",
      "source": [
        "exp = [1, 'two', '3', 4]\n",
        "exp2 = []\n",
        "for i in exp:\n",
        "  exp2.append(i+1)\n",
        "print(exp2)"
      ],
      "metadata": {
        "id": "_Vr2bdVcNQKX"
      },
      "execution_count": null,
      "outputs": []
    },
    {
      "cell_type": "code",
      "source": [
        "exp = [1, 2, int('3'), 4]\n",
        "exp2 = []\n",
        "for i in exp:\n",
        "  exp2.append(i+1)\n",
        "print(exp2)"
      ],
      "metadata": {
        "id": "oco1sh3vN8Gx"
      },
      "execution_count": null,
      "outputs": []
    },
    {
      "cell_type": "code",
      "source": [
        "exp = [1, 2, int('3') 4]\n",
        "exp2 = []\n",
        "for i in exp:\n",
        "  exp2.append(i+1)\n",
        "print(exp2)"
      ],
      "metadata": {
        "id": "BZJgrTaGTMmI"
      },
      "execution_count": null,
      "outputs": []
    },
    {
      "cell_type": "code",
      "source": [
        "exp = [1, 2, int('3'), 4]\n",
        "exp2 = []\n",
        "for i in exp\n",
        "  exp2.append(i+1)\n",
        "print(exp2)"
      ],
      "metadata": {
        "id": "-f3xIK_ETMim"
      },
      "execution_count": null,
      "outputs": []
    },
    {
      "cell_type": "code",
      "source": [
        "arr = ['a', 'b', 'c', 'd']\n",
        "arr.index('e')"
      ],
      "metadata": {
        "id": "ZQBVVasWN8DP"
      },
      "execution_count": null,
      "outputs": []
    },
    {
      "cell_type": "code",
      "source": [
        "arr = ['a', 'b', 'c', 'd']\n",
        "arr.index('b')"
      ],
      "metadata": {
        "id": "G7QF7ofKN8A3"
      },
      "execution_count": null,
      "outputs": []
    },
    {
      "cell_type": "code",
      "source": [
        "value_error = int('ValueError')\n",
        "print(value_error)"
      ],
      "metadata": {
        "id": "9LLLYmIuN7-Y"
      },
      "execution_count": null,
      "outputs": []
    },
    {
      "cell_type": "code",
      "source": [
        "value_error = str('ValueError')\n",
        "print(value_error)\n",
        "value_error = int('8788')\n",
        "print(value_error)"
      ],
      "metadata": {
        "id": "LWTlaDWAQefC"
      },
      "execution_count": null,
      "outputs": []
    },
    {
      "cell_type": "code",
      "source": [],
      "metadata": {
        "id": "KIp22qL3Qebj"
      },
      "execution_count": null,
      "outputs": []
    },
    {
      "cell_type": "code",
      "source": [],
      "metadata": {
        "id": "q9EwoyvGQeZM"
      },
      "execution_count": null,
      "outputs": []
    },
    {
      "cell_type": "markdown",
      "source": [
        "Q4. 강의에서 미국과 유럽의 엘리베이터 층수를 변환하는 프로그램이 나왔습니다.\n",
        "\n",
        "그와 비슷하게 우리는 한국 나이를 미국 나이로 변환하는 프로그램을 코딩 해봅시다."
      ],
      "metadata": {
        "id": "BQMPFePxKHWa"
      }
    },
    {
      "cell_type": "code",
      "source": [
        "\n",
        "from datetime import datetime"
      ],
      "metadata": {
        "id": "6dSDSaNKQeWe"
      },
      "execution_count": null,
      "outputs": []
    },
    {
      "cell_type": "code",
      "source": [
        "\n",
        "\n",
        "def age_converter():\n",
        "  print(\"이 프로그램은 한국 나이를 미국 나이로 변환합니다. \\n한국 나이를 입력해 주십시오.\")\n",
        "  while 1:\n",
        "    age = input()\n",
        "    if age.isdigit() == False:\n",
        "      print(\"나이는 숫자로 입력해 주십시오.\")\n",
        "    elif int(age) < 1:\n",
        "      print(\"한국 나이로 신생아는 출생 즉시 1살이 됩니다.\")\n",
        "    else:\n",
        "      break\n",
        "\n",
        "  print(\"출생 월을 입력해 주십시오.\")\n",
        "  while 1:\n",
        "    month = input()\n",
        "    if month.isdigit() == False:\n",
        "      print(\"월은 1~2자리의 숫자로 입력해 주십시오.\")\n",
        "    elif int(month) < 1 or int(month) > 12:\n",
        "      print(\"출생 월은 1과 12 사이의 정수로 입력해 주십시오.\")\n",
        "    else:\n",
        "      break\n",
        "\n",
        "  print(\"출생 일을 입력해 주십시오.\")\n",
        "  while 1:\n",
        "    day = input()\n",
        "    if day.isdigit() == False:\n",
        "      print(\"일은 1~2자리의 숫자로 입력해 주십시오.\")\n",
        "    elif int(day) < 1 or int(day) > 31:\n",
        "      print(\"출생 일은 1과 31 사이의 정수로 입력해 주십시오.\")\n",
        "    else:\n",
        "      break\n",
        "\n",
        "\n",
        "  age = int(age)\n",
        "  month = int(month)\n",
        "  day = int(day)\n",
        "\n",
        "  if month < datetime.today().month:\n",
        "    if age == 1:\n",
        "      age = age -1\n",
        "    else:\n",
        "      age = age - 2\n",
        "  elif month == datetime.today().month:\n",
        "    if day < datetime.today().day:\n",
        "      if age == 1:\n",
        "        age = age -1\n",
        "      else:\n",
        "        age = age - 2\n",
        "    else:\n",
        "      age = age -1 \n",
        "  else:\n",
        "    age = age - 1\n",
        "  print(\"귀하의 미국 나이는 {}세입니다.\".format(age))\n"
      ],
      "metadata": {
        "id": "LWcm_-BUN77s"
      },
      "execution_count": null,
      "outputs": []
    },
    {
      "cell_type": "code",
      "source": [
        "age_converter()"
      ],
      "metadata": {
        "id": "09mmF3rWN75P"
      },
      "execution_count": null,
      "outputs": []
    },
    {
      "cell_type": "code",
      "source": [],
      "metadata": {
        "id": "ZuTeNkwzg7JW"
      },
      "execution_count": null,
      "outputs": []
    },
    {
      "cell_type": "code",
      "source": [],
      "metadata": {
        "id": "XQQVwuzPg7F4"
      },
      "execution_count": null,
      "outputs": []
    },
    {
      "cell_type": "code",
      "source": [],
      "metadata": {
        "id": "_kbKRQRVg7Db"
      },
      "execution_count": null,
      "outputs": []
    },
    {
      "cell_type": "code",
      "source": [],
      "metadata": {
        "id": "jJ6ttAIAg7BH"
      },
      "execution_count": null,
      "outputs": []
    }
  ]
}