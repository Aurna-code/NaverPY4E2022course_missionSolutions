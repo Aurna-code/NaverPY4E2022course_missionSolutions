{
  "nbformat": 4,
  "nbformat_minor": 0,
  "metadata": {
    "colab": {
      "provenance": []
    },
    "kernelspec": {
      "name": "python3",
      "display_name": "Python 3"
    },
    "language_info": {
      "name": "python"
    }
  },
  "cells": [
    {
      "cell_type": "markdown",
      "source": [
        "Q2.  여러분은 6명의 멤버를 거느리는 영업팀의 영업관리자 입니다. 각 멤버별로 올해 실적을 보고 잘한 멤버는 보너스를 주고 못한 멤버는 면담을 하려고 합니다. 파이썬을 이용하여 함수를 만들어 보너스 대상자와 면담 대상자를 골라주세요.\n",
        "\n",
        "조건 1 - 예비 보너스 대상자는 평균 실적 1등 2등 입니다.\n",
        "\n",
        "조건 2 - 예비 면담 대상자는 평균 실적 5등 6등 입니다.\n",
        "\n",
        "조건 3 - 보너스 대상자의 평균 실적이 5보다 크지 않으면 보너스 대상자에서 제외 됩니다.\n",
        "\n",
        "조건 4 - 면담 대상자의 평균 실적이 3보다 크면 면담 대상자에서 제외 됩니다."
      ],
      "metadata": {
        "id": "neCixCxjSYCm"
      }
    },
    {
      "cell_type": "code",
      "execution_count": null,
      "metadata": {
        "id": "h6uP0ifyOx_-"
      },
      "outputs": [],
      "source": [
        "# 이름, 실적\n",
        "member_names = [\"갑돌이\", \"갑순이\", \"을돌이\", \"을순이\", \"병돌이\", \"병순이\"]\n",
        "member_records = [[4,5,3,5,6,5,3,4,1,3,4,5],[2,3,4,3,1,2,0,3,2,5,7,2], \n",
        "           [1,3,0,3,3,4,5,6,7,2,2,1],[3,2,9,2,3,5,6,6,4,6,9,9],\n",
        "           [8,7,7,5,6,7,5,8,8,6,10,9],[7,8,4,9,5,10,3,3,2,2,1,3]]"
      ]
    },
    {
      "cell_type": "code",
      "source": [
        "def sales_management(member_names, member_records):\n",
        "  means = []\n",
        "  for i in range(len(member_names)):\n",
        "    means.append(sum(member_records[i]) / len(member_records[i]))\n",
        "\n",
        "  bonus_1 = max(means)\n",
        "  bonus_person_1 = member_names[means.index(bonus_1)]\n",
        "  interview_1 = min(means)\n",
        "  interview_person_1 = member_names[means.index(interview_1)]\n",
        "\n",
        "  means_temp = means[:]\n",
        "  means_temp.remove(bonus_1)\n",
        "  means_temp.remove(interview_1)\n",
        "\n",
        "  bonus_2 = max(means_temp)\n",
        "  bonus_person_2 = member_names[means.index(bonus_2)]\n",
        "  interview_2 = min(means_temp)\n",
        "  interview_person_2 = member_names[means.index(interview_2)]\n",
        "\n",
        "  if bonus_1 <= 5:\n",
        "    print(f\"보너스 대상자 : 없음\")\n",
        "  elif bonus_2 <= 5:\n",
        "    print(f\"보너스 대상자 : {bonus_person_1}\")\n",
        "  else:\n",
        "    print(f\"보너스 대상자 : {bonus_person_1}\\n보너스 대상자 : {bonus_person_2}\")\n",
        "\n",
        "  if interview_1 > 3 and interview_2 > 3:\n",
        "    print(f\"면담 대상자 : 없음\")\n",
        "  elif interview_1 > 3 and interview_2 <= 3:\n",
        "    print(f\"면담 대상자 : {interview_person_2}\")\n",
        "  else:\n",
        "    print(f\"면담 대상자: {interview_person_1}\\n면담 대상자 : {interview_person_2}\")\n",
        "    \n",
        "sales_management(member_names, member_records)"
      ],
      "metadata": {
        "id": "z9duXS75O1Uz"
      },
      "execution_count": null,
      "outputs": []
    },
    {
      "cell_type": "code",
      "source": [],
      "metadata": {
        "colab": {
          "base_uri": "https://localhost:8080/"
        },
        "id": "8IhRvzasO3Lq",
        "outputId": "a9648914-29c6-4d16-b0a9-42f44e1e36ee"
      },
      "execution_count": null,
      "outputs": [
        {
          "output_type": "stream",
          "name": "stdout",
          "text": [
            "보너스 대상자 : 병돌이\n",
            "보너스 대상자 : 을순이\n",
            "면담 대상자: 갑순이\n",
            "면담 대상자 : 을돌이\n"
          ]
        }
      ]
    },
    {
      "cell_type": "code",
      "source": [],
      "metadata": {
        "id": "gq6agP5rO3RB"
      },
      "execution_count": null,
      "outputs": []
    },
    {
      "cell_type": "markdown",
      "source": [
        "Q3. 예금 금리가 너무 낮아서 주식을 시작했습니다. 아래와 같이 매수한 종목 이름, 수량, 매수 평균 금액이 있습니다. 판매가는 따로 주어집니다. 종목과 수익률만 출력하시고 종목별 수익률이 높은 순서대로 출력해주세요. (소수 둘째자리까지 출력)"
      ],
      "metadata": {
        "id": "KPGmr9OaSgoV"
      }
    },
    {
      "cell_type": "code",
      "source": [
        "stocks = \"삼성전자/10/85000,카카오/15/130000,LG화학/3/820000,NAVER/5/420000\"\n",
        "sells = [82000, 160000, 835000, 410000]"
      ],
      "metadata": {
        "id": "6gB9-y4KO3Xa"
      },
      "execution_count": null,
      "outputs": []
    },
    {
      "cell_type": "code",
      "source": [
        "def stock_profit(stocks, sells):\n",
        "  stocks_list = stocks.split(\",\")\n",
        "  stocks_list_num = []\n",
        "  stocks_name = []\n",
        "\n",
        "  for i in stocks_list:\n",
        "    div = i.split(\"/\")\n",
        "    stocks_name.append(div[0])\n",
        "    stocks_list_num.append(div[2])\n",
        "\n",
        "  rate = []\n",
        "  for i in range(len(stocks_list_num)):\n",
        "    if sells[i] / int(stocks_list_num[i])>= 1:\n",
        "      rate.append(100 * (sells[i] / int(stocks_list_num[i])-1))\n",
        "    else:\n",
        "      rate.append(-100 * (1 - (sells[i]/ int(stocks_list_num[i]) )))\\\n",
        "\n",
        "  name_rate = {}\n",
        "  for i in range(len(rate)):\n",
        "    name_rate[stocks_name[i]] = rate[i]\n",
        "  \n",
        "  name_rate_sort = sorted(name_rate.items(), reverse=True, key=lambda item: item[1])\n",
        "  for i,j in name_rate_sort:\n",
        "    print(f\"{i}의 수익률 {j:.3}\")\n",
        "\n",
        "stock_profit(stocks, sells)"
      ],
      "metadata": {
        "colab": {
          "base_uri": "https://localhost:8080/"
        },
        "id": "CBJGcGnxO3be",
        "outputId": "2c7e8800-1157-4765-c374-65c60665c6d1"
      },
      "execution_count": null,
      "outputs": [
        {
          "output_type": "stream",
          "name": "stdout",
          "text": [
            "카카오의 수익률 23.1\n",
            "LG화학의 수익률 1.83\n",
            "NAVER의 수익률 -2.38\n",
            "삼성전자의 수익률 -3.53\n"
          ]
        }
      ]
    },
    {
      "cell_type": "code",
      "source": [],
      "metadata": {
        "id": "RB8vqd-3O3ii"
      },
      "execution_count": null,
      "outputs": []
    },
    {
      "cell_type": "code",
      "source": [],
      "metadata": {
        "id": "NP2eNGYFO3op"
      },
      "execution_count": null,
      "outputs": []
    }
  ]
}